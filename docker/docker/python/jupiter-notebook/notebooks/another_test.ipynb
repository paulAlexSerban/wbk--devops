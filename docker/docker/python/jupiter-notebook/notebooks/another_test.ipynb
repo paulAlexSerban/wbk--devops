{
 "cells": [
  {
   "cell_type": "code",
   "execution_count": 1,
   "id": "8d44035a-6200-4a2b-8dc4-3936be33018e",
   "metadata": {},
   "outputs": [
    {
     "name": "stdout",
     "output_type": "stream",
     "text": [
      "hello ping\n"
     ]
    }
   ],
   "source": [
    "print(\"hello ping\")"
   ]
  }
 ],
 "metadata": {
  "kernelspec": {
   "display_name": "Python 3 (ipykernel)",
   "language": "python",
   "name": "python3"
  },
  "language_info": {
   "codemirror_mode": {
    "name": "ipython",
    "version": 3
   },
   "file_extension": ".py",
   "mimetype": "text/x-python",
   "name": "python",
   "nbconvert_exporter": "python",
   "pygments_lexer": "ipython3",
   "version": "3.12.4"
  }
 },
 "nbformat": 4,
 "nbformat_minor": 5
}
